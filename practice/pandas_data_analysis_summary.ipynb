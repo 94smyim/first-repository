{
 "cells": [
  {
   "cell_type": "markdown",
   "id": "245d741b",
   "metadata": {},
   "source": [
    "# 📊 pandas 데이터 분석 핵심 도구 정리"
   ]
  },
  {
   "cell_type": "markdown",
   "id": "c043260d",
   "metadata": {},
   "source": [
    "## ① Overview (데이터 기본 특성 파악)\n",
    "* 데이터의 구조와 내용을 빠르게 파악할 수 있는 함수들입니다.\n",
    "| 함수 | 설명 |\n",
    "|------|------|\n",
    "| `df.head(n)` | 앞의 n행 출력 (기본 5행) |\n",
    "| `df.tail(n)` | 뒤의 n행 출력 |\n",
    "| `df.describe()` | 수치형 열의 요약 통계 |\n",
    "| `df.info()` | 열 타입, 결측치, 메모리 사용량 등 |\n",
    "| `df.dtypes` | 각 열의 데이터 타입 확인 |"
   ]
  },
  {
   "cell_type": "code",
   "execution_count": null,
   "id": "620f7e33",
   "metadata": {},
   "outputs": [],
   "source": [
    "import pandas as pd\n",
    "df = pd.read_csv('your_data.csv')\n",
    "df.head()\n",
    "df.describe()\n",
    "df.info()"
   ]
  },
  {
   "cell_type": "markdown",
   "id": "9fea5d84",
   "metadata": {},
   "source": [
    "## ② Outlier (이상치 탐지 및 처리)\n",
    "* 데이터의 품질을 해치는 이상값을 제거하거나 식별하는 과정입니다.\n",
    "\n",
    "**방법 요약**\n",
    "- Z-점수\n",
    "- IQR 방식\n",
    "- Boxplot 시각화\n",
    "- 조건 필터링"
   ]
  },
  {
   "cell_type": "code",
   "execution_count": null,
   "id": "1c9c8547",
   "metadata": {},
   "outputs": [],
   "source": [
    "# IQR 방식 예제\n",
    "Q1 = df['fare_amount'].quantile(0.25)\n",
    "Q3 = df['fare_amount'].quantile(0.75)\n",
    "IQR = Q3 - Q1\n",
    "df_clean = df[(df['fare_amount'] >= Q1 - 1.5 * IQR) & (df['fare_amount'] <= Q3 + 1.5 * IQR)]"
   ]
  },
  {
   "cell_type": "code",
   "execution_count": null,
   "id": "a5deb33e",
   "metadata": {},
   "outputs": [],
   "source": [
    "# Boxplot 시각화 예제\n",
    "import seaborn as sns\n",
    "import matplotlib.pyplot as plt\n",
    "sns.boxplot(x=df['trip_distance'])\n",
    "plt.show()"
   ]
  },
  {
   "cell_type": "markdown",
   "id": "a873e4db",
   "metadata": {},
   "source": [
    "## ③ Aggregation (그룹별 요약 통계)\n",
    "* 특정 기준으로 그룹화한 후 요약값을 계산합니다.\n",
    "\n",
    "| 함수 | 설명 |\n",
    "|------|------|\n",
    "| `groupby()` | 특정 컬럼 기준으로 묶기 |\n",
    "| `sum()`, `mean()`, `count()` | 그룹 통계 |\n",
    "| `agg()` | 여러 통계 함수 적용 |\n",
    "| `std()` | 표준편차 계산 |"
   ]
  },
  {
   "cell_type": "code",
   "execution_count": null,
   "id": "36bc8566",
   "metadata": {},
   "outputs": [],
   "source": [
    "# 단일 그룹화\n",
    "df.groupby('payment_method')['fare_amount'].mean()\n",
    "\n",
    "# 다중 집계\n",
    "df.groupby('payment_method')['fare_amount'].agg(['mean', 'max', 'std'])"
   ]
  },
  {
   "cell_type": "markdown",
   "id": "82c54e85",
   "metadata": {},
   "source": [
    "## ④ Pivot Table\n",
    "* 특정 열을 행/열 인덱스로 바꾸어 요약 통계 테이블 생성\n",
    "\n",
    "| 파라미터 | 설명 |\n",
    "|----------|------|\n",
    "| `index` | 행 인덱스로 사용할 열 |\n",
    "| `columns` | 열로 사용할 변수 |\n",
    "| `values` | 계산할 대상 값 |\n",
    "| `aggfunc` | 집계 함수 (`mean`, `sum` 등) |"
   ]
  },
  {
   "cell_type": "code",
   "execution_count": null,
   "id": "0299a761",
   "metadata": {},
   "outputs": [],
   "source": [
    "pd.pivot_table(df,\n",
    "               index='payment_method',\n",
    "               columns='pickup_day',\n",
    "               values='fare_amount',\n",
    "               aggfunc='mean')"
   ]
  }
 ],
 "metadata": {
  "kernelspec": {
   "display_name": "Python 3 (ipykernel)",
   "language": "python",
   "name": "python3"
  },
  "language_info": {
   "codemirror_mode": {
    "name": "ipython",
    "version": 3
   },
   "file_extension": ".py",
   "mimetype": "text/x-python",
   "name": "python",
   "nbconvert_exporter": "python",
   "pygments_lexer": "ipython3",
   "version": "3.13.3"
  }
 },
 "nbformat": 4,
 "nbformat_minor": 5
}
